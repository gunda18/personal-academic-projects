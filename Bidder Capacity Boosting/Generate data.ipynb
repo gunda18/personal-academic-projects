{
 "cells": [
  {
   "cell_type": "code",
   "execution_count": 1,
   "id": "4f67d942",
   "metadata": {},
   "outputs": [],
   "source": [
    "import pandas as pd\n",
    "import numpy as np\n",
    "\n",
    "# Seed for reproducibility\n",
    "np.random.seed(42)\n",
    "\n",
    "# Generate data for 20 bidders\n",
    "bidders_data = {\n",
    "    'Bidder Name': ['Bidder' + str(i+1) for i in range(20)],\n",
    "    'Capacity': np.random.randint(300, 800, size=20),\n",
    "    'Cost': np.random.randint(5, 21, size=20),  # Costs as integers\n",
    "    'History': [np.random.randint(1, 10) if i < 15 else 0 for i in range(20)]  # Random history for existing, 0 for new\n",
    "}\n",
    "\n",
    "# Create DataFrame\n",
    "df = pd.DataFrame(bidders_data)\n",
    "\n",
    "# Calculate the current total capacity\n",
    "current_total_capacity = df['Capacity'].sum()\n",
    "\n",
    "# Calculate the adjustment needed to reach 10,000\n",
    "adjustment_needed = 10000 - current_total_capacity\n",
    "\n",
    "# Adjust capacities by spreading the adjustment evenly\n",
    "if adjustment_needed != 0:\n",
    "    signs = np.sign(adjustment_needed)\n",
    "    for _ in range(abs(adjustment_needed)):\n",
    "        random_index = np.random.choice(df.index)\n",
    "        df.at[random_index, 'Capacity'] += signs\n",
    "\n",
    "# Ensure the total capacity is exactly 10,000\n",
    "assert df['Capacity'].sum() == 10000, \"Adjustment error: Total capacity does not sum to 10,000\"\n",
    "\n",
    "# Save to CSV file\n",
    "csv_path = 'input.csv'\n",
    "df.to_csv(csv_path, index=False)\n"
   ]
  },
  {
   "cell_type": "code",
   "execution_count": null,
   "id": "b2062b2b",
   "metadata": {},
   "outputs": [],
   "source": []
  },
  {
   "cell_type": "code",
   "execution_count": null,
   "id": "6105f1df",
   "metadata": {},
   "outputs": [],
   "source": []
  }
 ],
 "metadata": {
  "kernelspec": {
   "display_name": "Python 3 (ipykernel)",
   "language": "python",
   "name": "python3"
  },
  "language_info": {
   "codemirror_mode": {
    "name": "ipython",
    "version": 3
   },
   "file_extension": ".py",
   "mimetype": "text/x-python",
   "name": "python",
   "nbconvert_exporter": "python",
   "pygments_lexer": "ipython3",
   "version": "3.11.5"
  }
 },
 "nbformat": 4,
 "nbformat_minor": 5
}
